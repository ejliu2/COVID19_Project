{
 "cells": [
  {
   "cell_type": "code",
   "execution_count": null,
   "id": "automotive-mongolia",
   "metadata": {},
   "outputs": [],
   "source": [
    "import numpy as np\n",
    "import pandas as pd\n",
    "import xgboost\n",
    "from sklearn.preprocessing import LabelBinarizer, LabelEncoder\n",
    "from sklearn.neighbors import KNeighborsClassifier\n",
    "from sklearn.metrics import classification_report\n",
    "import pickle as pkl\n",
    "import matplotlib.pyplot as plt\n",
    "import seaborn as sns\n",
    "from sklearn.model_selection import train_test_split, RandomizedSearchCV, GridSearchCV\n",
    "from sklearn.metrics import balanced_accuracy_score, roc_auc_score, make_scorer, classification_report, ConfusionMatrixDisplay, confusion_matrix, plot_confusion_matrix\n",
    "import itertools\n",
    "from datetime import datetime\n",
    "from sklearn.ensemble import RandomForestClassifier\n",
    "from sklearn.datasets import make_hastie_10_2\n",
    "from sklearn.model_selection import GridSearchCV\n",
    "from sklearn.metrics import make_scorer\n",
    "from sklearn.metrics import accuracy_score, recall_score, f1_score\n",
    "import warnings\n",
    "warnings.filterwarnings('ignore')"
   ]
  },
  {
   "cell_type": "markdown",
   "id": "waiting-fault",
   "metadata": {},
   "source": [
    "## Preprocessing"
   ]
  },
  {
   "cell_type": "code",
   "execution_count": null,
   "id": "experimental-analysis",
   "metadata": {},
   "outputs": [],
   "source": [
    "def preprocessing(raw_data):\n",
    "    data = raw_data\n",
    "\n",
    "    # Dealing with 'sex' column\n",
    "    sex_encoder = LabelBinarizer()\n",
    "    sex_encoder.fit(data['sex'])\n",
    "    transformed = sex_encoder.transform(data['sex'])\n",
    "    df = pd.DataFrame(transformed, columns=['male'])\n",
    "    data = pd.concat([data, df], axis=1).drop(['sex'], axis=1)\n",
    "\n",
    "    # Dealing with 'province' and 'country' and duplicate lat lon columns\n",
    "    data = data.drop(columns=['province', 'country', 'Province_State', 'Country_Region', 'Lat', 'Long_'])\n",
    "\n",
    "    # Dealing with 'date_confirmation' column\n",
    "    data['date_confirmation'] = pd.to_datetime(data.date_confirmation, infer_datetime_format=True).apply(lambda x: x.toordinal())\n",
    "\n",
    "    # Dealing with 'additional_information' column\n",
    "    # info_encode = pd.get_dummies(data.date_confirmation, prefix='country')\n",
    "    # data = pd.concat([data, info_encode], axis=1).drop(['country'], axis=1)\n",
    "    data = data.drop(columns=['additional_information', 'source', 'Last_Update'])\n",
    "\n",
    "    # Dealing with 'Last_Update'\n",
    "    # data['Last_Update'] = pd.to_datetime(data.Last_Update, infer_datetime_format=True).apply(lambda x: x.toordinal())\n",
    "    data = data.dropna()\n",
    "\n",
    "    return data"
   ]
  },
  {
   "cell_type": "code",
   "execution_count": null,
   "id": "systematic-psychiatry",
   "metadata": {},
   "outputs": [],
   "source": [
    "train_data = pd.read_csv(\"../data/cases_train_processed.csv\")\n",
    "train_data = preprocessing(train_data)"
   ]
  },
  {
   "cell_type": "code",
   "execution_count": null,
   "id": "norman-burner",
   "metadata": {},
   "outputs": [],
   "source": [
    "X = train_data.drop(columns=['outcome'])\n",
    "y = train_data.outcome"
   ]
  },
  {
   "cell_type": "markdown",
   "id": "satisfied-humor",
   "metadata": {},
   "source": [
    "## Tuning Hyperparameters"
   ]
  },
  {
   "cell_type": "code",
   "execution_count": null,
   "id": "noted-principal",
   "metadata": {},
   "outputs": [],
   "source": [
    "def param_scores(model):\n",
    "    results = pd.concat([\n",
    "        pd.DataFrame(pd.Series([list(x.values()) for x in model.cv_results_['params']]), columns=['hyperparameters']),\n",
    "        pd.DataFrame(model.cv_results_['mean_test_F1_Deceased'], columns=['F1_Deceased']),\n",
    "        pd.DataFrame(model.cv_results_['mean_test_Recall_Deceased'], columns=['Recall_Deceased']),\n",
    "        pd.DataFrame(model.cv_results_['mean_test_Overall_Accuracy'], columns=['Overall_Accuracy']),\n",
    "        pd.DataFrame(model.cv_results_['mean_test_Overall_Recall'], columns=['Overall_Recall']),\n",
    "        ],\n",
    "        axis=1\n",
    "    )\n",
    "    return results"
   ]
  },
  {
   "cell_type": "markdown",
   "id": "bored-ending",
   "metadata": {},
   "source": [
    "### KNN"
   ]
  },
  {
   "cell_type": "code",
   "execution_count": null,
   "id": "completed-mauritius",
   "metadata": {},
   "outputs": [],
   "source": [
    "def tune_knn(X, y):\n",
    "    leaf_size = [5, 10, 15]\n",
    "    n_neighbors = [5, 10, 15]\n",
    "    p=[1,2]\n",
    "\n",
    "    hyperparameters = dict(leaf_size=leaf_size, n_neighbors=n_neighbors, p=p)\n",
    "\n",
    "    scoring = {\n",
    "        'Overall_Accuracy': make_scorer(accuracy_score),\n",
    "        'Overall_Recall': make_scorer(recall_score, average='weighted'),\n",
    "        'F1_Deceased': make_scorer(f1_score, labels=['deceased'], average='weighted'),\n",
    "        'Recall_Deceased': make_scorer(recall_score, labels=['deceased'], average='weighted')\n",
    "    }\n",
    "\n",
    "    knn = KNeighborsClassifier()\n",
    "    gs = GridSearchCV(estimator=knn, param_grid=hyperparameters, scoring=scoring, cv=5, refit='F1_Deceased', n_jobs=3)\n",
    "\n",
    "    best_model = gs.fit(X, y)\n",
    "\n",
    "    print('Best leaf_size:', best_model.best_estimator_.get_params()['leaf_size'])\n",
    "    print('Best n_neighbors:', best_model.best_estimator_.get_params()['n_neighbors'])\n",
    "    print('Best p:', best_model.best_estimator_.get_params()['p'])\n",
    "    return best_model"
   ]
  },
  {
   "cell_type": "code",
   "execution_count": null,
   "id": "coastal-license",
   "metadata": {},
   "outputs": [],
   "source": [
    "%%time\n",
    "best_knn = tune_knn(X,y)"
   ]
  },
  {
   "cell_type": "code",
   "execution_count": null,
   "id": "surgical-berry",
   "metadata": {},
   "outputs": [],
   "source": [
    "knn_scores = param_scores(best_knn)\n",
    "knn_scores.to_csv('../results/knn_tuning.csv', index=False)\n",
    "knn_scores"
   ]
  },
  {
   "cell_type": "markdown",
   "id": "twenty-deputy",
   "metadata": {},
   "source": [
    "### XGBoost Model"
   ]
  },
  {
   "cell_type": "code",
   "execution_count": null,
   "id": "built-peter",
   "metadata": {},
   "outputs": [],
   "source": [
    "def tune_XGBoost(X, y):\n",
    "\n",
    "    classifier = xgboost.XGBClassifier(use_label_encoder=True)\n",
    "    scoring = {\n",
    "        'Overall_Accuracy': make_scorer(accuracy_score),\n",
    "        'Overall_Recall': make_scorer(recall_score, average='weighted'),\n",
    "        'F1_Deceased': make_scorer(f1_score, labels=['deceased'], average='weighted'),\n",
    "        'Recall_Deceased': make_scorer(recall_score, labels=['deceased'], average='weighted')\n",
    "    }\n",
    "\n",
    "    parameters ={\n",
    "        \"learning_rate\": [0.10, 0.20, 0.30] ,\n",
    "        \"max_depth\": [8, 12, 15],\n",
    "        \"min_child_weight\": [50, 100, 150],\n",
    "    }\n",
    "    grid_search = GridSearchCV(estimator=classifier, scoring=scoring, param_grid=parameters, refit='F1_Deceased', cv=5, n_jobs=3)\n",
    "    best_model = grid_search.fit(X, y)\n",
    "    \n",
    "    print('Best learning_rate:', best_model.best_estimator_.get_params()['learning_rate'])\n",
    "    print('Best max_depth:', best_model.best_estimator_.get_params()['max_depth'])\n",
    "    print('Best min_child_weight:', best_model.best_estimator_.get_params()['min_child_weight'])\n",
    "    \n",
    "    return best_model"
   ]
  },
  {
   "cell_type": "code",
   "execution_count": null,
   "id": "economic-merchant",
   "metadata": {},
   "outputs": [],
   "source": [
    "%%time\n",
    "best_xgboost = tune_XGBoost(X,y)"
   ]
  },
  {
   "cell_type": "code",
   "execution_count": null,
   "id": "royal-facing",
   "metadata": {},
   "outputs": [],
   "source": [
    "xgboost_scores = param_scores(best_xgboost)\n",
    "xgboost_scores.to_csv('../results/xgboost_tuning.csv', index=False)\n",
    "xgboost_scores"
   ]
  },
  {
   "cell_type": "markdown",
   "id": "skilled-optimum",
   "metadata": {},
   "source": [
    "### Random Forest Model"
   ]
  },
  {
   "cell_type": "code",
   "execution_count": null,
   "id": "inner-brooks",
   "metadata": {},
   "outputs": [],
   "source": [
    "def tune_rf(X, y):\n",
    "    scoring = {\n",
    "        'Overall_Accuracy': make_scorer(accuracy_score),\n",
    "        'Overall_Recall': make_scorer(recall_score, average='weighted'),\n",
    "        'F1_Deceased': make_scorer(f1_score, labels=['deceased'], average='weighted'),\n",
    "        'Recall_Deceased': make_scorer(recall_score, labels=['deceased'], average='weighted')\n",
    "    }\n",
    "    rf_parameters = {\n",
    "        'n_estimators': [250, 500, 1000],\n",
    "        'max_depth': [10, 20, 30],\n",
    "        'min_samples_leaf': [10, 25, 50]\n",
    "    }\n",
    "    rf_grid_search = GridSearchCV(estimator=RandomForestClassifier(), scoring=scoring, param_grid=rf_parameters, refit='F1_Deceased', cv=5, n_jobs=3)\n",
    "    best_model = rf_grid_search.fit(X, y)\n",
    "    \n",
    "    print('Best n_estimators:', best_model.best_estimator_.get_params()['n_estimators'])\n",
    "    print('Best max_depth:', best_model.best_estimator_.get_params()['max_depth'])\n",
    "    print('Best min_samples_leaf:', best_model.best_estimator_.get_params()['min_samples_leaf'])    \n",
    "    \n",
    "    return best_model"
   ]
  },
  {
   "cell_type": "code",
   "execution_count": null,
   "id": "resident-height",
   "metadata": {},
   "outputs": [],
   "source": [
    "%%time\n",
    "best_rf = tune_rf(X,y)"
   ]
  },
  {
   "cell_type": "code",
   "execution_count": null,
   "id": "light-copper",
   "metadata": {},
   "outputs": [],
   "source": [
    "rf_scores = param_scores(best_rf)\n",
    "rf_scores.to_csv('../results/randomforest_tuning.csv', index=False)\n",
    "rf_scores"
   ]
  },
  {
   "cell_type": "markdown",
   "id": "utility-shell",
   "metadata": {},
   "source": [
    "## Prediction on test dataset"
   ]
  },
  {
   "cell_type": "code",
   "execution_count": null,
   "id": "rotary-holder",
   "metadata": {},
   "outputs": [],
   "source": [
    "def preprocessing(raw_data):\n",
    "    data = raw_data\n",
    "\n",
    "    # Dealing with 'sex' column\n",
    "    sex_encoder = LabelBinarizer()\n",
    "    sex_encoder.fit(data['sex'])\n",
    "    transformed = sex_encoder.transform(data['sex'])\n",
    "    df = pd.DataFrame(transformed, columns=['male'])\n",
    "    data = pd.concat([data, df], axis=1).drop(['sex'], axis=1)\n",
    "\n",
    "    # Dealing with 'province' and 'country' and duplicate lat lon columns\n",
    "    data = data.drop(columns=['province', 'country', 'Province_State', 'Country_Region', 'Lat', 'Long_'])\n",
    "\n",
    "    # Dealing with 'date_confirmation' column\n",
    "    data['date_confirmation'] = pd.to_datetime(data.date_confirmation, infer_datetime_format=True).apply(lambda x: x.toordinal())\n",
    "\n",
    "    # Dealing with 'additional_information' column\n",
    "    # info_encode = pd.get_dummies(data.date_confirmation, prefix='country')\n",
    "    # data = pd.concat([data, info_encode], axis=1).drop(['country'], axis=1)\n",
    "    data = data.drop(columns=['additional_information', 'source', 'Last_Update'])\n",
    "\n",
    "    # Dealing with 'Last_Update'\n",
    "    # data['Last_Update'] = pd.to_datetime(data.Last_Update, infer_datetime_format=True).apply(lambda x: x.toordinal())\n",
    "#     data = data.dropna()\n",
    "\n",
    "    return data"
   ]
  },
  {
   "cell_type": "code",
   "execution_count": null,
   "id": "duplicate-horror",
   "metadata": {},
   "outputs": [],
   "source": [
    "test_data = pd.read_csv(\"../data/cases_test_processed.csv\")\n",
    "test_data = test_data.drop(columns=['outcome'])\n",
    "test_data = preprocessing(test_data)"
   ]
  },
  {
   "cell_type": "code",
   "execution_count": null,
   "id": "aquatic-south",
   "metadata": {},
   "outputs": [],
   "source": [
    "predictions = best_xgboost.best_estimator_.predict(test_data)\n",
    "len(predictions)"
   ]
  },
  {
   "cell_type": "code",
   "execution_count": null,
   "id": "thick-happening",
   "metadata": {},
   "outputs": [],
   "source": [
    "with open('../results/predictions.txt', 'w') as f:\n",
    "    for x in range(len(predictions)):\n",
    "        if x == len(predictions)-1:\n",
    "            f.write(predictions[x])\n",
    "        else:\n",
    "            f.write(predictions[x]+'\\n')"
   ]
  },
  {
   "cell_type": "markdown",
   "id": "competent-letters",
   "metadata": {},
   "source": [
    "### Check predictions file"
   ]
  },
  {
   "cell_type": "code",
   "execution_count": null,
   "id": "cooked-philadelphia",
   "metadata": {},
   "outputs": [],
   "source": [
    "def check_if_file_valid(filename):\n",
    "    assert filename.endswith('../results/predictions.txt'), 'Incorrect filename'\n",
    "    f = open(filename).read()\n",
    "    l = f.split('\\n')\n",
    "    assert len(l) == 46500, 'Incorrect number of items'\n",
    "    assert (len(set(l)) == 4), 'Wrong class labels'\n",
    "    return 'The predictions file is valid'\n",
    "check_if_file_valid('../results/predictions.txt')"
   ]
  }
 ],
 "metadata": {
  "kernelspec": {
   "display_name": "Python 3",
   "language": "python",
   "name": "python3"
  },
  "language_info": {
   "codemirror_mode": {
    "name": "ipython",
    "version": 3
   },
   "file_extension": ".py",
   "mimetype": "text/x-python",
   "name": "python",
   "nbconvert_exporter": "python",
   "pygments_lexer": "ipython3",
   "version": "3.9.2"
  }
 },
 "nbformat": 4,
 "nbformat_minor": 5
}
